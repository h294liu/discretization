{
 "cells": [
  {
   "cell_type": "markdown",
   "metadata": {},
   "source": [
    "### Make folder structure ###"
   ]
  },
  {
   "cell_type": "markdown",
   "metadata": {},
   "source": [
    "Make the initial folder structure based on a given control file. All other files in the workflow will look for the file 'control_active.txt' during their execution. This script:<br>\n",
    "1. copy the template control file into 'control_active.txt'.\n",
    "2. make directories for 'root_path', 'source_path', and domain."
   ]
  },
  {
   "cell_type": "code",
   "execution_count": 4,
   "metadata": {},
   "outputs": [],
   "source": [
    "# specify the template control file to use\n",
    "# control_tpl_file = '/glade/u/home/hongli/github/2020_06_02HRUcomplexity/2_discretize/control.tpl.txt' \n",
    "control_tpl_file = '/Users/hongliliu/Documents/github/discretization/discretize/control.tpl.txt' "
   ]
  },
  {
   "cell_type": "markdown",
   "metadata": {},
   "source": [
    "Don't change below this line."
   ]
  },
  {
   "cell_type": "code",
   "execution_count": 5,
   "metadata": {},
   "outputs": [],
   "source": [
    "# import module\n",
    "import os\n",
    "from shutil import copyfile\n",
    "import geospatial_functions.utils as ut"
   ]
  },
  {
   "cell_type": "markdown",
   "metadata": {},
   "source": [
    "#### Copy template control file into 'contrl_active.txt' ####"
   ]
  },
  {
   "cell_type": "code",
   "execution_count": 6,
   "metadata": {},
   "outputs": [],
   "source": [
    "# copy the contro_file into control_active.txt\n",
    "control_file = 'control_active.txt'\n",
    "copyfile(control_tpl_file, control_file);"
   ]
  },
  {
   "cell_type": "markdown",
   "metadata": {},
   "source": [
    "#### Make folders ####"
   ]
  },
  {
   "cell_type": "code",
   "execution_count": 7,
   "metadata": {},
   "outputs": [],
   "source": [
    "# read paths from control_file\n",
    "root_path = ut.read_from_control(control_file, 'root_path')\n",
    "source_path = ut.read_from_control(control_file, 'source_path')\n",
    "domain_name = ut.read_from_control(control_file, 'domain_name')"
   ]
  },
  {
   "cell_type": "code",
   "execution_count": 8,
   "metadata": {},
   "outputs": [],
   "source": [
    "# create root_path where data will be stored. \n",
    "if not os.path.exists(root_path):\n",
    "    os.makedirs(root_path)\n",
    "    \n",
    "# create source_path where projected large-domain data will be stored. \n",
    "if not os.path.exists(source_path):\n",
    "    os.makedirs(source_path)\n",
    "\n",
    "# create source_path where domain relevant data will be stored. \n",
    "domain_path = os.path.join(root_path, domain_name)\n",
    "if not os.path.exists(domain_path):\n",
    "    os.makedirs(domain_path)"
   ]
  },
  {
   "cell_type": "code",
   "execution_count": null,
   "metadata": {},
   "outputs": [],
   "source": []
  },
  {
   "cell_type": "code",
   "execution_count": null,
   "metadata": {},
   "outputs": [],
   "source": []
  }
 ],
 "metadata": {
  "kernelspec": {
   "display_name": "summa-env",
   "language": "python",
   "name": "summa-env"
  },
  "language_info": {
   "codemirror_mode": {
    "name": "ipython",
    "version": 3
   },
   "file_extension": ".py",
   "mimetype": "text/x-python",
   "name": "python",
   "nbconvert_exporter": "python",
   "pygments_lexer": "ipython3",
   "version": "3.9.4"
  }
 },
 "nbformat": 4,
 "nbformat_minor": 5
}
