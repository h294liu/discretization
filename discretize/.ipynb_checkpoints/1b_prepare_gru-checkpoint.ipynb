{
 "cells": [
  {
   "cell_type": "markdown",
   "metadata": {},
   "source": [
    "### Prepare domain GRU shapefile ###\n",
    "This step includes:\n",
    "1. extract domain GRU shapefile from a large-domain HUC12 shapefile.  <br> \n",
    "   Note: this step is not needed if the basin shapefile exists already and is put in 'domain_gru_shp' setting of control file.\n",
    "2. project domain GRU shapefile to a specified projection system."
   ]
  },
  {
   "cell_type": "code",
   "execution_count": 10,
   "metadata": {},
   "outputs": [],
   "source": [
    "# import libraries\n",
    "import os\n",
    "import geospatial_functions.utils as ut\n",
    "import geospatial_functions.geospatial_analysis as ga\n",
    "import rasterio as rio\n",
    "import geopandas as gpd\n",
    "import numpy as np\n",
    "import matplotlib.pyplot as plt "
   ]
  },
  {
   "cell_type": "code",
   "execution_count": 11,
   "metadata": {},
   "outputs": [],
   "source": [
    "# paths\n",
    "control_file = 'control_active.txt'\n",
    "root_path = ut.read_from_control(control_file, 'root_path')\n",
    "domain_name = ut.read_from_control(control_file, 'domain_name')\n",
    "domain_path = os.path.join(root_path, domain_name)"
   ]
  },
  {
   "cell_type": "code",
   "execution_count": null,
   "metadata": {},
   "outputs": [],
   "source": [
    "# projection system\n",
    "proj4=ut.read_from_control(control_file, 'proj4') \n",
    "dst_crs = rio.crs.CRS.from_string(proj4)"
   ]
  },
  {
   "cell_type": "code",
   "execution_count": 12,
   "metadata": {},
   "outputs": [],
   "source": [
    "# large-domain data \n",
    "huc12_shp = ut.read_from_control(control_file, 'huc12_shp')\n",
    "huc12_field   = ut.read_from_control(control_file, 'huc12_field')      \n",
    "Tohuc12_field = ut.read_from_control(control_file, 'Tohuc12_field')\n",
    "outlet_hucid  = ut.read_from_control(control_file, 'outlet_hucid')\n",
    "\n",
    "gruNo_field = ut.read_from_control(control_file, 'gruNo_field')\n",
    "gruNo_field_dtype= ut.read_from_control(control_file, 'gruNo_field_dtype')\n",
    "gruName_field = ut.read_from_control(control_file, 'gruName_field')\n",
    "\n",
    "# domain data \n",
    "domain_gru_shp = ut.specify_file_path(control_file, 'domain_gru_shp')  \n",
    "domain_hucid_txt = ut.specify_file_path(control_file, 'domain_hucid_txt')   \n",
    "domain_gru_prj_shp = ut.specify_file_path(control_file, 'domain_gru_prj_shp')  "
   ]
  },
  {
   "cell_type": "markdown",
   "metadata": {},
   "source": [
    "#### 1. Extract domain GRU shapefile from the large-domain HUC12 shapefile ####"
   ]
  },
  {
   "cell_type": "code",
   "execution_count": 5,
   "metadata": {},
   "outputs": [],
   "source": [
    "# Function to find the unique items of a list\n",
    "def unique(list1):\n",
    "    list_uniqe = []\n",
    "    for x in list1:\n",
    "        if not x in list_uniqe:\n",
    "            list_uniqe.append(x)\n",
    "    return list_uniqe"
   ]
  },
  {
   "cell_type": "code",
   "execution_count": 6,
   "metadata": {},
   "outputs": [
    {
     "name": "stdout",
     "output_type": "stream",
     "text": [
      "Round 1. Totally 3 HUCs are found.\n",
      "Round 2. Totally 5 HUCs are found.\n",
      "Round 3. Totally 9 HUCs are found.\n",
      "Round 4. Totally 14 HUCs are found.\n",
      "Round 5. Totally 18 HUCs are found.\n"
     ]
    }
   ],
   "source": [
    "# ---- read large-domain HUC12 shapefile ---- \n",
    "data = gpd.read_file(huc12_shp)\n",
    "# check whether two useful columns (huc12_field, Tohuc12_field) are in huc12_shp.\n",
    "if not huc12_field in data.columns.values:\n",
    "    exit(huc12_field+' column does not exist in shapefile.')\n",
    "else:\n",
    "    hucs = data[huc12_field].values\n",
    "if not Tohuc12_field in data.columns.values:\n",
    "    exit(Tohuc12_field+' column does not exist in shapefile.')\n",
    "else:\n",
    "    tohucs = data[Tohuc12_field].values\n",
    "# extract only the useful columns to save data memory.\n",
    "data = data[[huc12_field,Tohuc12_field,'geometry']] \n",
    "\n",
    "# ---- search upstream HUCs ---- \n",
    "# method 1: search upstream hucs base on the most downstream hucId\n",
    "upstream_hucs = [outlet_hucid]                              # list of upstream hucs. initiate with outlet_hucid\n",
    "huc_found = np.unique(hucs[np.where(tohucs==outlet_hucid)]) # find all the upstream hucs that drain to outlet_hucid.\n",
    "upstream_hucs.extend(list(huc_found))                       # add the found upstream hucs of outlet_hucid to upstream_hucs list. \n",
    "round_num = 0                                               # record the round number of searching.\n",
    "\n",
    "while len(huc_found) != 0: # terminate searching upstream hucs until no one can be found any more.\n",
    "\n",
    "    round_num = round_num+1\n",
    "    print(\"Round %d. Totally %d HUCs are found.\" % (round_num, len(upstream_hucs)))\n",
    "\n",
    "    # search upstream hucs\n",
    "    huc_found_next = []\n",
    "    for huc_i in huc_found:\n",
    "        huc_found_next.extend(list(hucs[np.where(tohucs==huc_i)]))\n",
    "    huc_found_next = unique(huc_found_next)\n",
    "\n",
    "    # identify if the found HUCs exist in upstrm_hucs\n",
    "    huc_found = [huc for huc in huc_found_next if not huc in upstream_hucs]\n",
    "    upstream_hucs.extend(huc_found)\n",
    "\n",
    "#     # method 2: manually add upstream_hucs when the list of upstream hucs is known. \n",
    "#     # here huc12 list is from the bighorn model forcing nc file (hurId).\n",
    "#     upstream_hucs= np.loadtxt('/glade/u/home/andywood/proj/SHARP/wreg/bighorn/prep/lists/hucIds.06279940.txt',dtype=int)\n",
    "#     upstream_hucs=[100800120304, 100800120302, 100800120303, 100800120301,100800120209, 100800120207, 100800120204, 100800120205, 100800120208,\n",
    "#                 100800120206, 100800120105, 100800120201, 100800120202, 100800120203,100800120101, 100800120102, 100800120103, 100800120104]\n",
    "\n",
    "# ---- save upstream HUC12 to text and shapefile ---- \n",
    "np.savetxt(domain_hucid_txt, upstream_hucs, fmt='%s')\n",
    "data[data[huc12_field].isin(upstream_hucs)].to_file(domain_gru_shp)\n"
   ]
  },
  {
   "cell_type": "markdown",
   "metadata": {},
   "source": [
    "#### Check domain GRU ####"
   ]
  },
  {
   "cell_type": "code",
   "execution_count": 13,
   "metadata": {},
   "outputs": [
    {
     "data": {
      "image/png": "[encoded data removed]",
      "text/plain": [
       "<Figure size 432x288 with 1 Axes>"
      ]
     },
     "metadata": {
      "needs_background": "light"
     },
     "output_type": "display_data"
    }
   ],
   "source": [
    "def plot_vector(invector, column):    \n",
    "    in_gpd = gpd.read_file(invector)\n",
    "    fig, ax = plt.subplots()\n",
    "    in_gpd.plot(column=column, ax=ax)\n",
    "    plt.show()   \n",
    "    return\n",
    "\n",
    "plot_vector(domain_gru_shp, huc12_field)"
   ]
  },
  {
   "cell_type": "markdown",
   "metadata": {},
   "source": [
    "#### 2. Reproject GRU shapefile ####"
   ]
  },
  {
   "cell_type": "code",
   "execution_count": 14,
   "metadata": {},
   "outputs": [],
   "source": [
    "ga.reproject_vector(domain_gru_shp, domain_gru_prj_shp, dst_crs)  "
   ]
  }
 ],
 "metadata": {
  "kernelspec": {
   "display_name": "summa-env",
   "language": "python",
   "name": "summa-env"
  },
  "language_info": {
   "codemirror_mode": {
    "name": "ipython",
    "version": 3
   },
   "file_extension": ".py",
   "mimetype": "text/x-python",
   "name": "python",
   "nbconvert_exporter": "python",
   "pygments_lexer": "ipython3",
   "version": "3.9.4"
  }
 },
 "nbformat": 4,
 "nbformat_minor": 4
}
