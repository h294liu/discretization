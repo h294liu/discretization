{
 "cells": [
  {
   "cell_type": "code",
   "execution_count": 1,
   "metadata": {},
   "outputs": [
    {
     "data": {
      "text/plain": [
       "<osgeo.gdal.Dataset; proxy of <Swig Object of type 'GDALDatasetShadow *' at 0x7f96b83aa6f0> >"
      ]
     },
     "execution_count": 1,
     "metadata": {},
     "output_type": "execute_result"
    }
   ],
   "source": [
    "import os\n",
    "from osgeo import gdal\n",
    "\n",
    "domain_dem_raster = '/Users/hongliliu/Documents/prj/2020_06_02HRUcomplexity/discretize/shoshone/dem.tif'\n",
    "domain_slope_raster = '/Users/hongliliu/Documents/prj/2020_06_02HRUcomplexity/discretize/shoshone/slope.tif'\n",
    "domain_aspect_raster = '/Users/hongliliu/Documents/prj/2020_06_02HRUcomplexity/discretize/shoshone/aspect.tif'\n",
    "\n",
    "# gdal.DEMProcessing(domain_slope_raster, domain_dem_raster, 'slope', computeEdges=True)\n",
    "# gdal.DEMProcessing(domain_aspect_raster, domain_dem_raster, 'aspect',zeroForFlat=True)\n",
    "os.chdir('/Users/hongliliu/Documents/prj/2020_06_02HRUcomplexity/discretize/shoshone')\n",
    "gdal.DEMProcessing('aspect.tif', 'dem.tif', 'aspect',zeroForFlat=True)\n"
   ]
  },
  {
   "cell_type": "code",
   "execution_count": 2,
   "metadata": {},
   "outputs": [],
   "source": [
    "# --- input files and configurations (need edition) ---\n",
    "root_dir = '/glade/u/home/hongli/scratch/2020_06_02HRUcomplexity/discretize'\n",
    "# root_dir='/Users/hongli/Documents/proj/2020_06_01HRUcomplexity/discretize'\n",
    "source_data_dir = os.path.join(root_dir, 'source_data')\n",
    "\n",
    "dem_raster = os.path.join(source_data_dir, 'MERIT_Hydro_dem_NLDAS.tif')\n",
    "lc_raster = os.path.join(source_data_dir, 'nldas_landcover.tif') \n",
    "soil_raster = os.path.join(source_data_dir, 'usda_mode_soilclass_vCompressed_NA_250m_ll.tif') \n",
    "\n",
    "# case = 'shoshone'\n",
    "case = 'abc'\n",
    "case_dir = os.path.join(root_dir, case)\n",
    "if not os.path.exists(case_dir): os.makedirs(case_dir)"
   ]
  },
  {
   "cell_type": "code",
   "execution_count": null,
   "metadata": {},
   "outputs": [],
   "source": []
  }
 ],
 "metadata": {
  "kernelspec": {
   "display_name": "summa-env",
   "language": "python",
   "name": "summa-env"
  },
  "language_info": {
   "codemirror_mode": {
    "name": "ipython",
    "version": 3
   },
   "file_extension": ".py",
   "mimetype": "text/x-python",
   "name": "python",
   "nbconvert_exporter": "python",
   "pygments_lexer": "ipython3",
   "version": "3.9.4"
  }
 },
 "nbformat": 4,
 "nbformat_minor": 4
}
