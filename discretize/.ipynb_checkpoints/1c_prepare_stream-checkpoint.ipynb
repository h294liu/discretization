{
 "cells": [
  {
   "cell_type": "markdown",
   "metadata": {},
   "source": [
    "### Prepare inputs for discretization ###"
   ]
  },
  {
   "cell_type": "markdown",
   "metadata": {},
   "source": [
    "Prepare input data for the domain area (except radiation). This step includes:<br>\n",
    "1. project large-domain input rasters and vectors into one projection system.\n",
    "2. project the domain gru shaefile for extraction.\n",
    "3. extract/crop inputs for the domain area.\n",
    "4. resample inputs according to a reference raster (if needed)."
   ]
  },
  {
   "cell_type": "code",
   "execution_count": 2,
   "metadata": {},
   "outputs": [],
   "source": [
    "# import libraries\n",
    "import os\n",
    "import geospatial_functions.geospatial_analysis as ga\n",
    "import geospatial_functions.utils as ut\n",
    "import geopandas as gpd\n",
    "import rasterio as rio\n",
    "from rasterio.warp import Resampling"
   ]
  },
  {
   "cell_type": "code",
   "execution_count": 3,
   "metadata": {},
   "outputs": [],
   "source": [
    "# common paths\n",
    "control_file = 'control_active.txt'\n",
    "root_path = ut.read_from_control(control_file, 'root_path')\n",
    "source_path = ut.read_from_control(control_file, 'source_path')\n",
    "domain_name = ut.read_from_control(control_file, 'domain_name')\n",
    "domain_path = os.path.join(root_path, domain_name)\n",
    "\n",
    "# projection system\n",
    "proj4=ut.read_from_control(control_file, 'proj4') \n",
    "dst_crs = rio.crs.CRS.from_string(proj4)"
   ]
  },
  {
   "cell_type": "code",
   "execution_count": 5,
   "metadata": {},
   "outputs": [],
   "source": [
    "# large-domain data\n",
    "stream_shp = ut.read_from_control(control_file, 'stream_shp')\n",
    "stream_prj_shp = ut.read_from_control(control_file, 'stream_prj_shp')\n",
    "if stream_prj_shp == 'default': \n",
    "    stream_prj_shp = os.path.join(source_path, os.path.basename(stream_shp).split('.shp')[0]+'_prj.shp')\n",
    "    \n",
    "# domain data\n",
    "domain_gru_prj_shp = ut.specify_file_path(control_file, 'domain_gru_prj_shp')  \n",
    "domain_stream_shp = ut.specify_file_path(control_file, 'domain_stream_shp')  "
   ]
  },
  {
   "cell_type": "markdown",
   "metadata": {},
   "source": [
    "#### 1. Project larage-domain streamline #### "
   ]
  },
  {
   "cell_type": "code",
   "execution_count": 15,
   "metadata": {},
   "outputs": [],
   "source": [
    "ga.reproject_vector(stream_shp, stream_prj_shp, dst_crs)                          "
   ]
  },
  {
   "cell_type": "markdown",
   "metadata": {},
   "source": [
    "#### 2. Extract domain streamline ####"
   ]
  },
  {
   "cell_type": "code",
   "execution_count": 7,
   "metadata": {},
   "outputs": [],
   "source": [
    "stream_gpd = gpd.read_file(stream_prj_shp)\n",
    "boundary_gpd = gpd.read_file(domain_gru_prj_shp)\n",
    "in_gpd_clip = gpd.clip(stream_gpd, boundary_gpd)\n",
    "in_gpd_clip.to_file(domain_stream_shp)"
   ]
  }
 ],
 "metadata": {
  "kernelspec": {
   "display_name": "summa-env",
   "language": "python",
   "name": "summa-env"
  },
  "language_info": {
   "codemirror_mode": {
    "name": "ipython",
    "version": 3
   },
   "file_extension": ".py",
   "mimetype": "text/x-python",
   "name": "python",
   "nbconvert_exporter": "python",
   "pygments_lexer": "ipython3",
   "version": "3.9.4"
  }
 },
 "nbformat": 4,
 "nbformat_minor": 4
}
