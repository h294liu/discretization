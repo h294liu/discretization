{
 "cells": [
  {
   "cell_type": "markdown",
   "metadata": {},
   "source": [
    "### Prepare inputs for discretization ###"
   ]
  },
  {
   "cell_type": "markdown",
   "metadata": {},
   "source": [
    "Prepare input data for the domain area (except radiation). This step includes:<br>\n",
    "1. project large-domain input rasters and vectors into one projection system.\n",
    "2. project the domain gru shaefile for extraction.\n",
    "3. extract/crop inputs for the domain area.\n",
    "4. resample inputs according to a reference raster (if needed)."
   ]
  },
  {
   "cell_type": "code",
   "execution_count": 1,
   "metadata": {},
   "outputs": [],
   "source": [
    "# import libraries\n",
    "import os\n",
    "import geospatial_functions.geospatial_analysis as ga\n",
    "import geospatial_functions.utils as ut\n",
    "import rasterio as rio\n",
    "import rasterio.shutil\n",
    "from rasterio.warp import Resampling"
   ]
  },
  {
   "cell_type": "code",
   "execution_count": 2,
   "metadata": {},
   "outputs": [],
   "source": [
    "# common paths\n",
    "control_file = 'control_active.txt'\n",
    "root_path = ut.read_from_control(control_file, 'root_path')\n",
    "source_path = ut.read_from_control(control_file, 'source_path')\n",
    "domain_name = ut.read_from_control(control_file, 'domain_name')\n",
    "domain_path = os.path.join(root_path, domain_name)"
   ]
  },
  {
   "cell_type": "code",
   "execution_count": 3,
   "metadata": {},
   "outputs": [],
   "source": [
    "# projection system\n",
    "proj4=ut.read_from_control(control_file, 'proj4') \n",
    "dst_crs = rio.crs.CRS.from_string(proj4)"
   ]
  },
  {
   "cell_type": "code",
   "execution_count": 4,
   "metadata": {},
   "outputs": [],
   "source": [
    "# large-domain data\n",
    "landcover_raster = ut.read_from_control(control_file, 'landcover_raster')\n",
    "landcover_clip_raster = os.path.join(source_path, os.path.basename(landcover_raster).split('.tif')[0]+'_clip.tif')\n",
    "landcover_prj_raster =  ut.read_from_control(control_file, 'landcover_prj_raster')\n",
    "if landcover_prj_raster == 'default':\n",
    "    landcover_prj_raster = os.path.join(source_path, os.path.basename(landcover_raster).split('.tif')[0]+'_prj.tif')\n",
    "\n",
    "# domain data\n",
    "domain_gru_prj_shp = ut.specify_file_path(control_file, 'domain_gru_prj_shp')\n",
    "domain_extent = ut.specify_file_path(control_file, 'domain_extent')\n",
    "domain_landcover_raster = ut.specify_file_path(control_file, 'domain_landcover_raster') \n",
    "domain_landcover_resample_raster = ut.specify_file_path(control_file, 'domain_landcover_resample_raster')\n",
    "domain_landcover_class_raster = ut.specify_file_path(control_file, 'domain_landcover_class_raster')"
   ]
  },
  {
   "cell_type": "markdown",
   "metadata": {},
   "source": [
    "#### 1. Clip extent landcover from large-domain input ####"
   ]
  },
  {
   "cell_type": "code",
   "execution_count": 30,
   "metadata": {},
   "outputs": [
    {
     "data": {
      "text/plain": [
       "0"
      ]
     },
     "execution_count": 30,
     "metadata": {},
     "output_type": "execute_result"
    }
   ],
   "source": [
    "# (1) reproject raster by creating a VRT file, which is merely a ASCII txt file, for easy handling --- \n",
    "inraster = landcover_raster\n",
    "dst_crs_geo = rio.crs.CRS.from_string(\"EPSG:4326\")\n",
    "inraster_vrt = os.path.join(os.path.dirname(inraster), \n",
    "                            os.path.basename(inraster).split('.tif')[0]+'.vrt')\n",
    "with rio.open(inraster) as src:\n",
    "    with rio.vrt.WarpedVRT(src, crs=dst_crs_geo, resampling=rio.enums.Resampling.nearest) as vrt:\n",
    "        rio.shutil.copy(vrt, inraster_vrt, driver='VRT')\n",
    "    \n",
    "# (2) Do the cut out based on user defined extent\n",
    "[lat_max,lon_min,lat_min,lon_max] = domain_extent.split('/')\n",
    "inraster_vrt_clip = os.path.join(os.path.dirname(inraster),\n",
    "                                 os.path.basename(inraster).split('.')[0]+'_clip.vrt')\n",
    "\n",
    "cmd = 'gdal_translate -of VRT -projwin %s %s %s %s %s %s'%\\\n",
    "(lon_min, lat_max, lon_max, lat_min,inraster_vrt,inraster_vrt_clip)\n",
    "os.system(cmd)\n",
    "\n",
    "# (3) convert vrt to raster\n",
    "inraster_clip = landcover_clip_raster\n",
    "cmd = 'gdal_translate %s %s'%(inraster_vrt_clip, inraster_clip)\n",
    "os.system(cmd)"
   ]
  },
  {
   "cell_type": "markdown",
   "metadata": {},
   "source": [
    "#### 2. Project extent landcover #### "
   ]
  },
  {
   "cell_type": "code",
   "execution_count": 31,
   "metadata": {},
   "outputs": [],
   "source": [
    "ga.reproject_raster(landcover_clip_raster, landcover_prj_raster, dst_crs, Resampling.nearest) "
   ]
  },
  {
   "cell_type": "markdown",
   "metadata": {},
   "source": [
    "#### 3. Extract domain landcover ####"
   ]
  },
  {
   "cell_type": "code",
   "execution_count": 32,
   "metadata": {},
   "outputs": [],
   "source": [
    "ga.crop_raster(landcover_prj_raster, domain_gru_prj_shp, domain_landcover_raster) "
   ]
  },
  {
   "cell_type": "markdown",
   "metadata": {},
   "source": [
    "#### 4. Resample domain landcover ####\n",
    "Resample is only applied to the domain raster that has a coarser resolution than the reference raster. The reference raster is specified by user (by default, it refers to the domain DEM)."
   ]
  },
  {
   "cell_type": "code",
   "execution_count": 33,
   "metadata": {},
   "outputs": [],
   "source": [
    "refraster = ut.specify_refraster_path(control_file)\n",
    "ga.resample_raster(domain_landcover_raster,refraster,domain_landcover_resample_raster) "
   ]
  },
  {
   "cell_type": "markdown",
   "metadata": {},
   "source": [
    "#### 5. Classify domain landcover ####"
   ]
  },
  {
   "cell_type": "code",
   "execution_count": 6,
   "metadata": {},
   "outputs": [],
   "source": [
    "# Here two classes were made: crop vs. non-crop.\n",
    "# Crop class includes: 0 Evergreen needleleaf forests, 1 Evergreen broadleaf forests, \n",
    "# 2 Deciduous needleleaf forests, 3 Deciduous broadleaf forests, 4 Mixed forests, 6 Closed shrublands, 7 Woody savannas.  \n",
    "ga.classify_landcover(domain_landcover_resample_raster, domain_landcover_class_raster)"
   ]
  },
  {
   "cell_type": "code",
   "execution_count": null,
   "metadata": {},
   "outputs": [],
   "source": []
  }
 ],
 "metadata": {
  "kernelspec": {
   "display_name": "summa-env",
   "language": "python",
   "name": "summa-env"
  },
  "language_info": {
   "codemirror_mode": {
    "name": "ipython",
    "version": 3
   },
   "file_extension": ".py",
   "mimetype": "text/x-python",
   "name": "python",
   "nbconvert_exporter": "python",
   "pygments_lexer": "ipython3",
   "version": "3.9.4"
  }
 },
 "nbformat": 4,
 "nbformat_minor": 4
}
