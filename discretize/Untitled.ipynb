{
 "cells": [
  {
   "cell_type": "code",
   "execution_count": 1,
   "metadata": {},
   "outputs": [
    {
     "data": {
      "text/plain": [
       "'/glade/u/home/hongli/scratch/2020_06_02HRUcomplexity/discretize/source_data'"
      ]
     },
     "execution_count": 1,
     "metadata": {},
     "output_type": "execute_result"
    }
   ],
   "source": [
    "import os\n",
    "root_dir = '/glade/u/home/hongli/scratch/2020_06_02HRUcomplexity/discretize'\n",
    "dem_raster = os.path.join(root_dir, 'source_data/MERIT_Hydro_dem_NLDAS.tif')\n",
    "\n",
    "os.path.dirname(dem_raster) "
   ]
  },
  {
   "cell_type": "code",
   "execution_count": 2,
   "metadata": {},
   "outputs": [],
   "source": [
    "# --- input files and configurations (need edition) ---\n",
    "root_dir = '/glade/u/home/hongli/scratch/2020_06_02HRUcomplexity/discretize'\n",
    "# root_dir='/Users/hongli/Documents/proj/2020_06_01HRUcomplexity/discretize'\n",
    "source_data_dir = os.path.join(root_dir, 'source_data')\n",
    "\n",
    "dem_raster = os.path.join(source_data_dir, 'MERIT_Hydro_dem_NLDAS.tif')\n",
    "lc_raster = os.path.join(source_data_dir, 'nldas_landcover.tif') \n",
    "soil_raster = os.path.join(source_data_dir, 'usda_mode_soilclass_vCompressed_NA_250m_ll.tif') \n",
    "\n",
    "# case = 'shoshone'\n",
    "case = 'abc'\n",
    "case_dir = os.path.join(root_dir, case)\n",
    "if not os.path.exists(case_dir): os.makedirs(case_dir)"
   ]
  },
  {
   "cell_type": "code",
   "execution_count": 1,
   "metadata": {},
   "outputs": [
    {
     "data": {
      "text/plain": [
       "85.00969920117872"
      ]
     },
     "execution_count": 1,
     "metadata": {},
     "output_type": "execute_result"
    }
   ],
   "source": [
    "import numpy as np\n",
    "zonal_x, zonal_y=0.962, 0.084\n",
    "zonal_value = np.degrees(np.arctan(np.divide(zonal_x, zonal_y)))\n",
    "zonal_value"
   ]
  },
  {
   "cell_type": "code",
   "execution_count": 8,
   "metadata": {},
   "outputs": [
    {
     "name": "stdout",
     "output_type": "stream",
     "text": [
      "[       nan 0.5        0.70710678 1.        ]\n",
      "0.7357022603955158\n"
     ]
    }
   ],
   "source": [
    "import numpy as np\n",
    "print(np.sin(np.radians([np.nan,30,45,90])))\n",
    "print(np.nanmean(np.sin(np.radians([np.nan,30,45,90]))))"
   ]
  },
  {
   "cell_type": "code",
   "execution_count": 9,
   "metadata": {},
   "outputs": [
    {
     "data": {
      "text/plain": [
       "0.73570226"
      ]
     },
     "execution_count": 9,
     "metadata": {},
     "output_type": "execute_result"
    }
   ],
   "source": [
    "(0.5 + 0.70710678+1.)  /3.0"
   ]
  },
  {
   "cell_type": "code",
   "execution_count": null,
   "metadata": {},
   "outputs": [],
   "source": []
  }
 ],
 "metadata": {
  "kernelspec": {
   "display_name": "conda_hongli",
   "language": "python",
   "name": "conda_hongli"
  },
  "language_info": {
   "codemirror_mode": {
    "name": "ipython",
    "version": 3
   },
   "file_extension": ".py",
   "mimetype": "text/x-python",
   "name": "python",
   "nbconvert_exporter": "python",
   "pygments_lexer": "ipython3",
   "version": "3.8.3"
  }
 },
 "nbformat": 4,
 "nbformat_minor": 4
}
