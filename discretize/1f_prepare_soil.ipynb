{
 "cells": [
  {
   "cell_type": "markdown",
   "metadata": {},
   "source": [
    "### Prepare inputs for discretization ###"
   ]
  },
  {
   "cell_type": "markdown",
   "metadata": {},
   "source": [
    "Prepare input data for the domain area (except radiation). This step includes:<br>\n",
    "1. project large-domain input rasters and vectors into one projection system.\n",
    "2. project the domain gru shaefile for extraction.\n",
    "3. extract/crop inputs for the domain area.\n",
    "4. resample inputs according to a reference raster (if needed)."
   ]
  },
  {
   "cell_type": "code",
   "execution_count": 2,
   "metadata": {},
   "outputs": [],
   "source": [
    "# import libraries\n",
    "import os\n",
    "import geospatial_functions.geospatial_analysis as ga\n",
    "import geospatial_functions.utils as ut\n",
    "import rasterio as rio\n",
    "from rasterio.warp import Resampling"
   ]
  },
  {
   "cell_type": "code",
   "execution_count": 3,
   "metadata": {},
   "outputs": [],
   "source": [
    "# common paths\n",
    "control_file = 'control_active.txt'\n",
    "root_path = ut.read_from_control(control_file, 'root_path')\n",
    "source_path = ut.read_from_control(control_file, 'source_path')\n",
    "domain_name = ut.read_from_control(control_file, 'domain_name')\n",
    "domain_path = os.path.join(root_path, domain_name)"
   ]
  },
  {
   "cell_type": "code",
   "execution_count": 4,
   "metadata": {},
   "outputs": [],
   "source": [
    "# projection system\n",
    "proj4=ut.read_from_control(control_file, 'proj4') \n",
    "dst_crs = rio.crs.CRS.from_string(proj4)"
   ]
  },
  {
   "cell_type": "code",
   "execution_count": 5,
   "metadata": {},
   "outputs": [],
   "source": [
    "# large-domain data\n",
    "soil_raster = ut.read_from_control(control_file, 'soil_raster')\n",
    "soil_prj_raster = ut.read_from_control(control_file, 'soil_prj_raster')\n",
    "if soil_prj_raster == 'default': \n",
    "    soil_prj_raster = os.path.join(source_path, os.path.basename(soil_raster).split('.tif')[0]+'_prj.tif')\n",
    "\n",
    "# domain data\n",
    "domain_gru_prj_shp = ut.specify_file_path(control_file, 'domain_gru_prj_shp')  domain_dem_raster = ut.specify_file_path(control_file, 'domain_dem_raster')  \n",
    "domain_soil_raster = ut.specify_file_path(control_file, 'domain_soil_raster')  "
   ]
  },
  {
   "cell_type": "markdown",
   "metadata": {},
   "source": [
    "#### 1. Project larage-domain soil #### "
   ]
  },
  {
   "cell_type": "code",
   "execution_count": 15,
   "metadata": {},
   "outputs": [],
   "source": [
    "ga.reproject_raster(soil_raster, soil_prj_raster, dst_crs, Resampling.nearest)                         "
   ]
  },
  {
   "cell_type": "markdown",
   "metadata": {},
   "source": [
    "#### 2. Extract domain soil ####"
   ]
  },
  {
   "cell_type": "code",
   "execution_count": 7,
   "metadata": {},
   "outputs": [],
   "source": [
    "ga.crop_raster(soil_prj_raster, domain_gru_prj_shp, domain_soil_raster) "
   ]
  },
  {
   "cell_type": "markdown",
   "metadata": {},
   "source": [
    "#### Check domain soil ####"
   ]
  },
  {
   "cell_type": "code",
   "execution_count": null,
   "metadata": {},
   "outputs": [],
   "source": [
    "import geospatial_functions.geospatial_plot as gp\n",
    "domain_stream_shp = ut.specify_file_path(control_file, 'domain_stream_shp')\n",
    "\n",
    "wgs_crs = 'epsg:4326'\n",
    "figsize=(9,9*0.6) # width, height in inches\n",
    "title = domain_name.capitalize()+' aspect class'\n",
    "leg_ncol=2\n",
    "leg_loc='upper center'\n",
    "leg_bbox_to_anchor=(0.5,-0.15)\n",
    "\n",
    "# plot classified aspect\n",
    "ofile = os.path.join(domain_path, 'plot', 'soil_class_and_bound_stream.png')   \n",
    "inraster,bound_vector,stream_vector,wgs_crs,cmap_str,input_dict,figsize,title,leg_loc,leg_bbox_to_anchor,leg_ncol,ofile=\\\n",
    "domain_gru_prj_shp,domain_gru_prj_shp,domain_stream_shp,wgs_crs,'jet',legend_dict,figsize,title,leg_loc,leg_bbox_to_anchor,leg_ncol,ofile\n",
    "gp.plot_raster_and_bound_stream(inraster,bound_vector,stream_vector,wgs_crs,cmap_str,input_dict,\n",
    "                                figsize,title,leg_loc,leg_bbox_to_anchor,leg_ncol,ofile)"
   ]
  }
 ],
 "metadata": {
  "kernelspec": {
   "display_name": "summa-env",
   "language": "python",
   "name": "summa-env"
  },
  "language_info": {
   "codemirror_mode": {
    "name": "ipython",
    "version": 3
   },
   "file_extension": ".py",
   "mimetype": "text/x-python",
   "name": "python",
   "nbconvert_exporter": "python",
   "pygments_lexer": "ipython3",
   "version": "3.9.4"
  }
 },
 "nbformat": 4,
 "nbformat_minor": 4
}
